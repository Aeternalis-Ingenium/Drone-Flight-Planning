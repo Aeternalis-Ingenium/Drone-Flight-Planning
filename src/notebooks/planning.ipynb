{
 "cells": [
  {
   "cell_type": "markdown",
   "metadata": {},
   "source": [
    "# **Planning**"
   ]
  },
  {
   "cell_type": "code",
   "execution_count": 1,
   "metadata": {},
   "outputs": [
    {
     "name": "stdout",
     "output_type": "stream",
     "text": [
      "/Users/ninovation/Projects/Software/SourceCode/Aeternalis-Ingenium/Drone-Flight-Planning/src/notebooks\n"
     ]
    }
   ],
   "source": [
    "import os\n",
    "import sys\n",
    "import numpy as np\n",
    "import matplotlib.pyplot as plt\n",
    "\n",
    "from typing import Literal\n",
    "from queue import Queue, LifoQueue, PriorityQueue\n",
    "\n",
    "print(os.getcwd())\n",
    "os.chdir(\"../utils/\")\n",
    "sys.path.append(\"../utils/planning.py\")\n",
    "\n",
    "from planning import valid_actions, visualize_path"
   ]
  },
  {
   "cell_type": "markdown",
   "metadata": {},
   "source": [
    "## **State Space**"
   ]
  },
  {
   "cell_type": "markdown",
   "metadata": {},
   "source": [
    "![grid-state-space](https://raw.githubusercontent.com/Aeternalis-Ingenium/Drone-Flight-Planning/trunk/assets/pln/grid-search0.jpg)"
   ]
  },
  {
   "cell_type": "code",
   "execution_count": 2,
   "metadata": {},
   "outputs": [],
   "source": [
    "grid = np.array(\n",
    "    [\n",
    "        [0, 1, 0, 0, 0, 1, 0, 1, 0, 1, 0],\n",
    "        [0, 1, 0, 1, 0, 0, 0, 1, 0, 1, 0],\n",
    "        [0, 0, 1, 0, 0, 1, 0, 1, 0, 0, 0],\n",
    "        [0, 0, 1, 0, 0, 0, 0, 1, 0, 1, 0],\n",
    "        [0, 1, 0, 0, 0, 1, 0, 1, 0, 1, 0],\n",
    "        [0, 0, 0, 1, 0, 1, 0, 0, 0, 1, 0],\n",
    "        [1, 1, 0, 1, 0, 1, 0, 1, 0, 1, 0],\n",
    "        [0, 0, 0, 1, 0, 0, 1, 0, 0, 1, 0],\n",
    "        [0, 0, 0, 0, 0, 1, 0, 1, 0, 0, 0],\n",
    "        [0, 0, 0, 0, 0, 0, 0, 1, 0, 1, 0],\n",
    "        [0, 0, 0, 1, 0, 1, 0, 1, 0, 1, 0],\n",
    "        [0, 0, 0, 0, 0, 1, 0, 0, 0, 1, 0]\n",
    "    ]\n",
    ")\n",
    "start = (0, 0)\n",
    "goal = (6, 10)\n"
   ]
  },
  {
   "cell_type": "markdown",
   "metadata": {},
   "source": [
    "## **Breadth-First Search**"
   ]
  },
  {
   "cell_type": "code",
   "execution_count": 3,
   "metadata": {},
   "outputs": [],
   "source": [
    "def bfs(grid, start_node, goal_node):\n",
    "    \"\"\"\n",
    "    Perform breadth-first search on the grid to find a path from start to goal.\n",
    "    \"\"\"\n",
    "\n",
    "    path = []\n",
    "    path_cost = 0\n",
    "    total_exploration_cost = 0\n",
    "    queue = Queue()\n",
    "    queue.put((0, start_node))\n",
    "    visited = set(start_node)\n",
    "\n",
    "    branch = {}\n",
    "    found = False\n",
    "\n",
    "    while not queue.empty():\n",
    "        current_cost, current_node = queue.get()\n",
    "        total_exploration_cost += current_cost \n",
    "\n",
    "        if current_node == goal_node:        \n",
    "            print('Found a path.')\n",
    "            found = True\n",
    "            break\n",
    "        else:\n",
    "            for action in valid_actions(grid, current_node):\n",
    "                da = action.value\n",
    "                next_node = (current_node[0] + da[0], current_node[1] + da[1])\n",
    "                branch_cost = current_cost + 1\n",
    "\n",
    "                if next_node not in visited:                \n",
    "                    visited.add(next_node)               \n",
    "                    branch[next_node] = (branch_cost, current_node, action)\n",
    "                    queue.put((branch_cost, next_node))\n",
    "\n",
    "    if found:\n",
    "        n = goal_node\n",
    "        path_cost = branch[n][0]\n",
    "        while branch[n][1] != start_node:\n",
    "            path.append(branch[n][2])\n",
    "            n = branch[n][1]\n",
    "        path.append(branch[n][2])\n",
    "    else:\n",
    "        print(\"######################\")\n",
    "        print(\"Failed to find a path!\")\n",
    "        print(\"######################\")\n",
    "\n",
    "    return path[::-1], path_cost, total_exploration_cost"
   ]
  },
  {
   "cell_type": "code",
   "execution_count": 4,
   "metadata": {},
   "outputs": [
    {
     "name": "stdout",
     "output_type": "stream",
     "text": [
      "Found a path.\n",
      "BFS Path: [<Action.DOWN: (1, 0, 1)>, <Action.DOWN: (1, 0, 1)>, <Action.DOWN: (1, 0, 1)>, <Action.DOWN: (1, 0, 1)>, <Action.DOWN: (1, 0, 1)>, <Action.RIGHT: (0, 1, 1)>, <Action.RIGHT: (0, 1, 1)>, <Action.UP: (-1, 0, 1)>, <Action.RIGHT: (0, 1, 1)>, <Action.UP: (-1, 0, 1)>, <Action.RIGHT: (0, 1, 1)>, <Action.RIGHT: (0, 1, 1)>, <Action.RIGHT: (0, 1, 1)>, <Action.DOWN: (1, 0, 1)>, <Action.DOWN: (1, 0, 1)>, <Action.RIGHT: (0, 1, 1)>, <Action.RIGHT: (0, 1, 1)>, <Action.DOWN: (1, 0, 1)>, <Action.DOWN: (1, 0, 1)>, <Action.DOWN: (1, 0, 1)>, <Action.RIGHT: (0, 1, 1)>, <Action.RIGHT: (0, 1, 1)>, <Action.UP: (-1, 0, 1)>, <Action.UP: (-1, 0, 1)>]\n",
      "BFS Path Cost: 24\n",
      "BFS Total Exploration Cost: 1257\n"
     ]
    }
   ],
   "source": [
    "path_bfs, cost_bfs, total_exploration_cost_bfs = bfs(grid, start, goal)\n",
    "\n",
    "print(\"BFS Path:\", path_bfs)\n",
    "print(\"BFS Path Cost:\", cost_bfs)\n",
    "print(\"BFS Total Exploration Cost:\", total_exploration_cost_bfs)"
   ]
  },
  {
   "cell_type": "code",
   "execution_count": 5,
   "metadata": {},
   "outputs": [
    {
     "data": {
      "text/plain": [
       "array([['S', 'O', ' ', ' ', ' ', 'O', ' ', 'O', ' ', 'O', ' '],\n",
       "       ['v', 'O', ' ', 'O', ' ', ' ', ' ', 'O', ' ', 'O', ' '],\n",
       "       ['v', ' ', 'O', ' ', ' ', 'O', ' ', 'O', ' ', ' ', ' '],\n",
       "       ['v', ' ', 'O', '>', '>', '>', 'v', 'O', ' ', 'O', ' '],\n",
       "       ['v', 'O', '>', '^', ' ', 'O', 'v', 'O', ' ', 'O', ' '],\n",
       "       ['>', '>', '^', 'O', ' ', 'O', '>', '>', 'v', 'O', ' '],\n",
       "       ['O', 'O', ' ', 'O', ' ', 'O', ' ', 'O', 'v', 'O', 'G'],\n",
       "       [' ', ' ', ' ', 'O', ' ', ' ', 'O', ' ', 'v', 'O', '^'],\n",
       "       [' ', ' ', ' ', ' ', ' ', 'O', ' ', 'O', '>', '>', '^'],\n",
       "       [' ', ' ', ' ', ' ', ' ', ' ', ' ', 'O', ' ', 'O', ' '],\n",
       "       [' ', ' ', ' ', 'O', ' ', 'O', ' ', 'O', ' ', 'O', ' '],\n",
       "       [' ', ' ', ' ', ' ', ' ', 'O', ' ', ' ', ' ', 'O', ' ']],\n",
       "      dtype='<U1')"
      ]
     },
     "execution_count": 5,
     "metadata": {},
     "output_type": "execute_result"
    }
   ],
   "source": [
    "visualize_path(grid, path_bfs, start)"
   ]
  },
  {
   "cell_type": "markdown",
   "metadata": {},
   "source": [
    "## **Depth-First Search**"
   ]
  },
  {
   "cell_type": "code",
   "execution_count": 6,
   "metadata": {},
   "outputs": [],
   "source": [
    "def dfs(grid, start_node, goal_node):\n",
    "    \"\"\"\n",
    "    Perform depth-first search on the grid to find a path from start to goal.\n",
    "    \"\"\"\n",
    "\n",
    "    path = []\n",
    "    path_cost = 0\n",
    "    total_exploration_cost = 0\n",
    "    stack = LifoQueue()\n",
    "    stack.put((0, start_node))\n",
    "    visited = set(start_node)\n",
    "\n",
    "    branch = {}\n",
    "    found = False\n",
    "\n",
    "    while not stack.empty():\n",
    "        current_cost, current_node = stack.get()\n",
    "        total_exploration_cost += current_cost \n",
    "\n",
    "        if current_node == goal_node:        \n",
    "            print('Found a path.')\n",
    "            found = True\n",
    "            break\n",
    "        else:\n",
    "            for action in valid_actions(grid, current_node):\n",
    "                da = action.value\n",
    "                next_node = (current_node[0] + da[0], current_node[1] + da[1])\n",
    "                branch_cost = current_cost + 1\n",
    "\n",
    "                if next_node not in visited:\n",
    "                    visited.add(next_node)\n",
    "                    branch[next_node] = (branch_cost, current_node, action)\n",
    "                    stack.put((branch_cost, next_node))\n",
    "\n",
    "    if found:\n",
    "        n = goal_node\n",
    "        path_cost = branch[n][0]\n",
    "        while branch[n][1] != start_node:\n",
    "            path.append(branch[n][2])\n",
    "            n = branch[n][1]\n",
    "        path.append(branch[n][2])\n",
    "    else:\n",
    "        print(\"######################\")\n",
    "        print(\"Failed to find a path!\")\n",
    "        print(\"######################\")\n",
    "            \n",
    "    return path[::-1], path_cost, total_exploration_cost"
   ]
  },
  {
   "cell_type": "code",
   "execution_count": 7,
   "metadata": {},
   "outputs": [
    {
     "name": "stdout",
     "output_type": "stream",
     "text": [
      "Found a path.\n",
      "DFS Path: [<Action.DOWN: (1, 0, 1)>, <Action.DOWN: (1, 0, 1)>, <Action.DOWN: (1, 0, 1)>, <Action.DOWN: (1, 0, 1)>, <Action.DOWN: (1, 0, 1)>, <Action.RIGHT: (0, 1, 1)>, <Action.RIGHT: (0, 1, 1)>, <Action.UP: (-1, 0, 1)>, <Action.RIGHT: (0, 1, 1)>, <Action.UP: (-1, 0, 1)>, <Action.RIGHT: (0, 1, 1)>, <Action.RIGHT: (0, 1, 1)>, <Action.RIGHT: (0, 1, 1)>, <Action.DOWN: (1, 0, 1)>, <Action.DOWN: (1, 0, 1)>, <Action.RIGHT: (0, 1, 1)>, <Action.RIGHT: (0, 1, 1)>, <Action.DOWN: (1, 0, 1)>, <Action.DOWN: (1, 0, 1)>, <Action.DOWN: (1, 0, 1)>, <Action.RIGHT: (0, 1, 1)>, <Action.RIGHT: (0, 1, 1)>, <Action.UP: (-1, 0, 1)>, <Action.UP: (-1, 0, 1)>]\n",
      "DFS Path Cost: 24\n",
      "DFS Total Exploration Cost: 1257\n"
     ]
    }
   ],
   "source": [
    "path_dfs, cost_dfs, total_exploration_cost_dfs = bfs(grid, start, goal)\n",
    "\n",
    "print(\"DFS Path:\", path_dfs)\n",
    "print(\"DFS Path Cost:\", cost_dfs)\n",
    "print(\"DFS Total Exploration Cost:\", total_exploration_cost_dfs)"
   ]
  },
  {
   "cell_type": "code",
   "execution_count": 8,
   "metadata": {},
   "outputs": [
    {
     "data": {
      "text/plain": [
       "array([['S', 'O', ' ', ' ', ' ', 'O', ' ', 'O', ' ', 'O', ' '],\n",
       "       ['v', 'O', ' ', 'O', ' ', ' ', ' ', 'O', ' ', 'O', ' '],\n",
       "       ['v', ' ', 'O', ' ', ' ', 'O', ' ', 'O', ' ', ' ', ' '],\n",
       "       ['v', ' ', 'O', '>', '>', '>', 'v', 'O', ' ', 'O', ' '],\n",
       "       ['v', 'O', '>', '^', ' ', 'O', 'v', 'O', ' ', 'O', ' '],\n",
       "       ['>', '>', '^', 'O', ' ', 'O', '>', '>', 'v', 'O', ' '],\n",
       "       ['O', 'O', ' ', 'O', ' ', 'O', ' ', 'O', 'v', 'O', 'G'],\n",
       "       [' ', ' ', ' ', 'O', ' ', ' ', 'O', ' ', 'v', 'O', '^'],\n",
       "       [' ', ' ', ' ', ' ', ' ', 'O', ' ', 'O', '>', '>', '^'],\n",
       "       [' ', ' ', ' ', ' ', ' ', ' ', ' ', 'O', ' ', 'O', ' '],\n",
       "       [' ', ' ', ' ', 'O', ' ', 'O', ' ', 'O', ' ', 'O', ' '],\n",
       "       [' ', ' ', ' ', ' ', ' ', 'O', ' ', ' ', ' ', 'O', ' ']],\n",
       "      dtype='<U1')"
      ]
     },
     "execution_count": 8,
     "metadata": {},
     "output_type": "execute_result"
    }
   ],
   "source": [
    "visualize_path(grid, path_dfs, start)"
   ]
  },
  {
   "cell_type": "markdown",
   "metadata": {},
   "source": [
    "## **Heuristic Search**"
   ]
  },
  {
   "cell_type": "code",
   "execution_count": null,
   "metadata": {},
   "outputs": [],
   "source": [
    "def heuristic_a(next_node, goal_node):\n",
    "    return np.sqrt((next_node[0] - goal_node[0])**2 + (next_node[1] - goal_node[1])**2)\n",
    "\n",
    "\n",
    "def heuristic_b(next_node, goal_node):\n",
    "    return (next_node[0] - goal_node[0]) + (next_node[1] - goal_node[1])\n",
    "\n",
    "\n",
    "def h(htype: Literal[\"a\", \"b\"], next_node, goal_node):\n",
    "    if htype == \"a\":\n",
    "        return heuristic_a(next_node=next_node, goal_node=goal_node)\n",
    "    return heuristic_b(next_node=next_node, goal_node=goal_node)"
   ]
  },
  {
   "cell_type": "markdown",
   "metadata": {},
   "source": [
    "## **$A^{*}$**"
   ]
  },
  {
   "cell_type": "code",
   "execution_count": 10,
   "metadata": {},
   "outputs": [],
   "source": [
    "def a_star(grid, htype, start_node, goal_node):\n",
    "\n",
    "    path = []\n",
    "    path_cost = 0\n",
    "    total_exploration_cost = 0\n",
    "    queue = PriorityQueue()\n",
    "    queue.put((0, start_node))\n",
    "    visited = set(start_node)\n",
    "\n",
    "    branch = {}\n",
    "    found = False\n",
    "    \n",
    "    while not queue.empty():\n",
    "        current_cost, current_node = queue.get()\n",
    "        total_exploration_cost += current_cost\n",
    "            \n",
    "        if current_node == goal_node:\n",
    "            print('Found a path.')\n",
    "            found = True\n",
    "            break\n",
    "        else:\n",
    "            for action in valid_actions(grid, current_node):\n",
    "                da = action.delta\n",
    "                next_node = (current_node[0] + da[0], current_node[1] + da[1])\n",
    "                branch_cost = current_cost + action.cost\n",
    "                queue_cost = branch_cost + h(htype=htype, next_node=next_node, goal_node=goal_node)\n",
    "\n",
    "                if next_node not in visited:                \n",
    "                    visited.add(next_node)               \n",
    "                    branch[next_node] = (branch_cost, current_node, action)\n",
    "                    queue.put((queue_cost, next_node))\n",
    "\n",
    "    if found:\n",
    "        n = goal_node\n",
    "        path_cost = branch[n][0]\n",
    "        while branch[n][1] != start_node:\n",
    "            path.append(branch[n][2])\n",
    "            n = branch[n][1]\n",
    "        path.append(branch[n][2])\n",
    "    else:\n",
    "        print(\"######################\")\n",
    "        print(\"Failed to find a path!\")\n",
    "        print(\"######################\")\n",
    "\n",
    "    return path[::-1], path_cost, total_exploration_cost"
   ]
  },
  {
   "cell_type": "code",
   "execution_count": 14,
   "metadata": {},
   "outputs": [
    {
     "name": "stdout",
     "output_type": "stream",
     "text": [
      "Found a path.\n",
      "A* Path: [<Action.DOWN: (1, 0, 1)>, <Action.DOWN: (1, 0, 1)>, <Action.DOWN: (1, 0, 1)>, <Action.DOWN: (1, 0, 1)>, <Action.DOWN: (1, 0, 1)>, <Action.RIGHT: (0, 1, 1)>, <Action.RIGHT: (0, 1, 1)>, <Action.UP: (-1, 0, 1)>, <Action.RIGHT: (0, 1, 1)>, <Action.RIGHT: (0, 1, 1)>, <Action.UP: (-1, 0, 1)>, <Action.RIGHT: (0, 1, 1)>, <Action.RIGHT: (0, 1, 1)>, <Action.DOWN: (1, 0, 1)>, <Action.DOWN: (1, 0, 1)>, <Action.RIGHT: (0, 1, 1)>, <Action.RIGHT: (0, 1, 1)>, <Action.DOWN: (1, 0, 1)>, <Action.DOWN: (1, 0, 1)>, <Action.DOWN: (1, 0, 1)>, <Action.RIGHT: (0, 1, 1)>, <Action.RIGHT: (0, 1, 1)>, <Action.UP: (-1, 0, 1)>, <Action.UP: (-1, 0, 1)>]\n",
      "A* Path Cost: 159.4407161316494\n",
      "A* Total Exploration Cost: 9210.33033098142\n"
     ]
    }
   ],
   "source": [
    "path_as, cost_as, total_exploration_cost_as = a_star(grid, \"a\", start, goal)\n",
    "\n",
    "print(\"A* Path:\", path_as)\n",
    "print(\"A* Path Cost:\", cost_as)\n",
    "print(\"A* Total Exploration Cost:\", total_exploration_cost_as)"
   ]
  },
  {
   "cell_type": "code",
   "execution_count": 15,
   "metadata": {},
   "outputs": [
    {
     "data": {
      "text/plain": [
       "array([['S', 'O', ' ', ' ', ' ', 'O', ' ', 'O', ' ', 'O', ' '],\n",
       "       ['v', 'O', ' ', 'O', ' ', ' ', ' ', 'O', ' ', 'O', ' '],\n",
       "       ['v', ' ', 'O', ' ', ' ', 'O', ' ', 'O', ' ', ' ', ' '],\n",
       "       ['v', ' ', 'O', ' ', '>', '>', 'v', 'O', ' ', 'O', ' '],\n",
       "       ['v', 'O', '>', '>', '^', 'O', 'v', 'O', ' ', 'O', ' '],\n",
       "       ['>', '>', '^', 'O', ' ', 'O', '>', '>', 'v', 'O', ' '],\n",
       "       ['O', 'O', ' ', 'O', ' ', 'O', ' ', 'O', 'v', 'O', 'G'],\n",
       "       [' ', ' ', ' ', 'O', ' ', ' ', 'O', ' ', 'v', 'O', '^'],\n",
       "       [' ', ' ', ' ', ' ', ' ', 'O', ' ', 'O', '>', '>', '^'],\n",
       "       [' ', ' ', ' ', ' ', ' ', ' ', ' ', 'O', ' ', 'O', ' '],\n",
       "       [' ', ' ', ' ', 'O', ' ', 'O', ' ', 'O', ' ', 'O', ' '],\n",
       "       [' ', ' ', ' ', ' ', ' ', 'O', ' ', ' ', ' ', 'O', ' ']],\n",
       "      dtype='<U1')"
      ]
     },
     "execution_count": 15,
     "metadata": {},
     "output_type": "execute_result"
    }
   ],
   "source": [
    "visualize_path(grid, path_as, start)"
   ]
  }
 ],
 "metadata": {
  "kernelspec": {
   "display_name": "planopt",
   "language": "python",
   "name": "python3"
  },
  "language_info": {
   "codemirror_mode": {
    "name": "ipython",
    "version": 3
   },
   "file_extension": ".py",
   "mimetype": "text/x-python",
   "name": "python",
   "nbconvert_exporter": "python",
   "pygments_lexer": "ipython3",
   "version": "3.13.0"
  }
 },
 "nbformat": 4,
 "nbformat_minor": 2
}
